{
 "cells": [
  {
   "cell_type": "markdown",
   "id": "f10217a8",
   "metadata": {},
   "source": [
    "# Codeland Username Validation\n",
    "\n",
    "Have the function CodelandUsernameValidation(str) take the str parameter being passed and determine if the string is a valid username according to the following rules:\n",
    "\n",
    "1. The username is between 4 and 25 characters.\n",
    "2. It must start with a letter.\n",
    "3. It can only contain letters, numbers, and the underscore character.\n",
    "4. It cannot end with an underscore character.\n",
    "\n",
    "If the username is valid then your program should return the string true, otherwise return the string false.\n",
    "\n",
    "## Examples\n",
    "\n",
    "`Input: \"aa_\"`\n",
    "`Output: false`\n",
    "\n",
    "`Input: \"u__hello_world123\"`\n",
    "`Output: true`"
   ]
  },
  {
   "cell_type": "code",
   "execution_count": 1,
   "id": "dfb71c9c",
   "metadata": {},
   "outputs": [],
   "source": [
    "import re\n",
    "\n",
    "def CodelandUsernameValidation(username: str) -> str:\n",
    "  has_invalid_length = len(username) < 4 or len(username) > 25\n",
    "  if has_invalid_length:\n",
    "    return \"false\"\n",
    "\n",
    "  starts_with_invalid_char = re.search(r'^[^a-zA-Z]', username)\n",
    "  if starts_with_invalid_char:\n",
    "    return \"false\"\n",
    "\n",
    "  contains_invalid_chars = re.search(r'[^\\w]', username)\n",
    "  if contains_invalid_chars:\n",
    "    return \"false\"\n",
    "  \n",
    "  ends_with_underscore = username.endswith('_')\n",
    "  if ends_with_underscore:\n",
    "    return \"false\"\n",
    "\n",
    "  return \"true\""
   ]
  },
  {
   "cell_type": "code",
   "execution_count": 2,
   "id": "54ce3023",
   "metadata": {},
   "outputs": [],
   "source": [
    "import unittest\n",
    "\n",
    "class TestUsernameValidation(unittest.TestCase):\n",
    "\n",
    "    def test_username_is_too_short(self):\n",
    "        self.assertEqual(CodelandUsernameValidation(\"aa_\"), \"false\")\n",
    "\n",
    "    def test_valid_username_with_multiple_underscores(self):\n",
    "        self.assertEqual(CodelandUsernameValidation(\"u__hello_world_123\"), \"true\")\n",
    "\n",
    "    def test_aaaaaaaaaa(self):\n",
    "        self.assertEqual(CodelandUsernameValidation(\"aaaaaaaaaa\"), \"true\")\n",
    "\n",
    "    def test_underscore_only(self):\n",
    "        self.assertEqual(CodelandUsernameValidation(\"_\"), \"false\")\n",
    "\n",
    "    def test_double_underscore_start(self):\n",
    "        self.assertEqual(CodelandUsernameValidation(\"__bbbbbbb\"), \"false\")\n",
    "\n",
    "    def test_ends_with_underscore(self):\n",
    "        self.assertEqual(CodelandUsernameValidation(\"b3333434_\"), \"false\")\n",
    "\n",
    "    def test_usernamehello123(self):\n",
    "        self.assertEqual(CodelandUsernameValidation(\"usernamehello123\"), \"true\")\n",
    "\n",
    "    def test_many_underscores(self):\n",
    "        self.assertEqual(CodelandUsernameValidation(\"oooooooooooooooooo________a\"), \"false\")\n",
    "\n",
    "    def test_starts_with_number(self):\n",
    "        self.assertEqual(CodelandUsernameValidation(\"123abc444\"), \"false\")\n",
    "\n",
    "    def test_long_with_underscores_and_numbers(self):\n",
    "        self.assertEqual(CodelandUsernameValidation(\"a______b_________555555555555aaaa\"), \"false\")\n"
   ]
  },
  {
   "cell_type": "code",
   "execution_count": 3,
   "id": "879723fa",
   "metadata": {},
   "outputs": [
    {
     "name": "stderr",
     "output_type": "stream",
     "text": [
      "..........\n",
      "----------------------------------------------------------------------\n",
      "Ran 10 tests in 0.013s\n",
      "\n",
      "OK\n"
     ]
    }
   ],
   "source": [
    "if __name__ == '__main__':\n",
    "    unittest.main(argv=['first-arg-is-ignored'], exit=False)"
   ]
  }
 ],
 "metadata": {
  "kernelspec": {
   "display_name": ".venv",
   "language": "python",
   "name": "python3"
  },
  "language_info": {
   "codemirror_mode": {
    "name": "ipython",
    "version": 3
   },
   "file_extension": ".py",
   "mimetype": "text/x-python",
   "name": "python",
   "nbconvert_exporter": "python",
   "pygments_lexer": "ipython3",
   "version": "3.12.3"
  }
 },
 "nbformat": 4,
 "nbformat_minor": 5
}
