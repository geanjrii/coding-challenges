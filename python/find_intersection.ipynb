{
 "cells": [
  {
   "cell_type": "markdown",
   "id": "eb7bebf3",
   "metadata": {},
   "source": [
    "# Find Intersection\n",
    "\n",
    "Have the function FindIntersection(strArr) read the array of strings stored in strArr which will contain 2 elements: the first element will represent a list of comma-separated numbers sorted in ascending order, the second element will represent a second list of comma-separated numbers (also sorted). Your goal is to return a comma-separated string containing the numbers that occur in elements of strArr in sorted order. If there is no intersection, return the string false.\n",
    "## Examples\n",
    "\n",
    "`Input: [\"1, 3, 4, 7, 13\", \"1, 2, 4, 13, 15\"]`\n",
    "`Output: 1,4,13`\n",
    "`Input: [\"1, 3, 9, 10, 17, 18\", \"1, 4, 9, 10\"]`\n",
    "`Output: 1,9,10`"
   ]
  },
  {
   "cell_type": "code",
   "execution_count": 6,
   "id": "3478e6b0",
   "metadata": {},
   "outputs": [],
   "source": [
    "def find_intersection(strArr: list[str]) -> str:\n",
    "    array1 = set(strArr[0].split(', '))\n",
    "    array2 = set(strArr[1].split(', '))\n",
    "    intersection = array1 & array2\n",
    "    return 'false' if not intersection else ','.join(sorted(intersection, key=int))"
   ]
  },
  {
   "cell_type": "code",
   "execution_count": 7,
   "id": "3dc8bc30",
   "metadata": {},
   "outputs": [
    {
     "name": "stderr",
     "output_type": "stream",
     "text": [
      "..........\n",
      "----------------------------------------------------------------------\n",
      "Ran 10 tests in 0.005s\n",
      "\n",
      "OK\n"
     ]
    }
   ],
   "source": [
    "import unittest\n",
    "\n",
    "class TestFindIntersection(unittest.TestCase):\n",
    "    def test_find_intersection_1(self):\n",
    "        self.assertEqual(find_intersection([\"1, 3, 4, 7, 13\", \"1, 2, 4, 13, 15\"]), \"1,4,13\")\n",
    "\n",
    "    def test_find_intersection_2(self):\n",
    "        self.assertEqual(find_intersection([\"2, 5, 7, 10, 11, 12\", \"2, 7, 8, 9, 10, 11, 15\"]), \"2,7,10,11\")\n",
    "\n",
    "    def test_find_intersection_3(self):\n",
    "        self.assertEqual(find_intersection([\"1, 5, 6, 7, 10, 11, 12\", \"5, 6, 8, 11, 17\"]), \"5,6,11\")\n",
    "\n",
    "    def test_find_intersection_4(self):\n",
    "        self.assertEqual(find_intersection([\"2, 3, 4\", \"3\"]), \"3\")\n",
    "\n",
    "    def test_find_intersection_5(self):\n",
    "        self.assertEqual(find_intersection([\"1, 2, 3, 4, 5\", \"6, 7, 8, 9, 10\"]), \"false\")\n",
    "\n",
    "    def test_find_intersection_6(self):\n",
    "        self.assertEqual(find_intersection([\"1, 2, 4, 5, 6, 9\", \"2, 3, 4, 8, 10\"]), \"2,4\")\n",
    "\n",
    "    def test_find_intersection_7(self):\n",
    "        self.assertEqual(find_intersection([\"5, 6, 9, 11, 12, 16\", \"4, 6, 7, 11, 16\"]), \"6,11,16\")\n",
    "\n",
    "    def test_find_intersection_8(self):\n",
    "        self.assertEqual(find_intersection([\"1, 3, 9, 10, 17, 18\", \"1, 4, 9, 10\"]), \"1,9,10\")\n",
    "\n",
    "    def test_find_intersection_9(self):\n",
    "        self.assertEqual(find_intersection([\"11, 12, 14, 16, 20\", \"11, 12, 13, 18, 21\"]), \"11,12\")\n",
    "\n",
    "    def test_find_intersection_10(self):\n",
    "        self.assertEqual(find_intersection([\"21, 22, 23, 25, 27, 28\", \"21, 24, 25, 29\"]), \"21,25\")\n",
    "\n",
    "if __name__ == \"__main__\":\n",
    "    unittest.main(argv=['first-arg-is-ignored'], exit=False)"
   ]
  }
 ],
 "metadata": {
  "kernelspec": {
   "display_name": ".venv",
   "language": "python",
   "name": "python3"
  },
  "language_info": {
   "codemirror_mode": {
    "name": "ipython",
    "version": 3
   },
   "file_extension": ".py",
   "mimetype": "text/x-python",
   "name": "python",
   "nbconvert_exporter": "python",
   "pygments_lexer": "ipython3",
   "version": "3.12.3"
  }
 },
 "nbformat": 4,
 "nbformat_minor": 5
}
