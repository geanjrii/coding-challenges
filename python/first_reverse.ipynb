{
 "cells": [
  {
   "cell_type": "markdown",
   "id": "cec84064",
   "metadata": {},
   "source": [
    "# First Reverse\n",
    "\n",
    "Have the function FirstReverse(str) take the str parameter being passed and return the string in reversed order. For example: if the input string is `\"Hello World and Coders\"` then your program should return the string `\"sredoC dna dlroW olleH\"`.\n",
    "\n",
    "## Examples\n",
    "\n",
    "`Input: \"coderbyte\"`\n",
    "`Output: etybredoc`\n",
    "\n",
    "`Input: \"I Love Code\"`\n",
    "`Output: edoC evoL I`"
   ]
  },
  {
   "cell_type": "code",
   "execution_count": 4,
   "id": "c097ab94",
   "metadata": {},
   "outputs": [],
   "source": [
    "def first_reverse(input_str: str) -> str:\n",
    "    return input_str[::-1]"
   ]
  },
  {
   "cell_type": "code",
   "execution_count": 5,
   "id": "ec45cba3",
   "metadata": {},
   "outputs": [],
   "source": [
    "import unittest\n",
    "\n",
    "class TestFirstReverse(unittest.TestCase):\n",
    "    def test_should_reverse_coderbyte(self):\n",
    "        self.assertEqual(first_reverse(\"coderbyte\"), \"etybredoc\")\n",
    "\n",
    "    def test_should_reverse_I_Love_Code(self):\n",
    "        self.assertEqual(first_reverse(\"I Love Code\"), \"edoC evoL I\")\n",
    "\n",
    "    def test_should_reverse_Hello_World_and_Coders(self):\n",
    "        self.assertEqual(first_reverse(\"Hello World and Coders\"), \"sredoC dna dlroW olleH\")\n",
    "        \n",
    "    def test_should_reverse_Coderbyte(self):\n",
    "        self.assertEqual(first_reverse(\"Coderbyte\"), \"etybredoC\")\n",
    "\n",
    "    def test_should_reverse_I_Love_Coding(self):\n",
    "        self.assertEqual(first_reverse(\"I Love Coding\"), \"gnidoC evoL I\")\n",
    "\n",
    "    def test_should_reverse_h333llLo(self):\n",
    "        self.assertEqual(first_reverse(\"h333llLo\"), \"oLll333h\")\n",
    "\n",
    "    def test_should_reverse_Yo0(self):\n",
    "        self.assertEqual(first_reverse(\"Yo0\"), \"0oY\")\n",
    "\n",
    "    def test_should_reverse_thisiscool(self):\n",
    "        self.assertEqual(first_reverse(\"thisiscool\"), \"loocsisiht\")\n",
    "\n",
    "    def test_should_reverse_commacomma_exclamation(self):\n",
    "        self.assertEqual(first_reverse(\"commacomma!\"), \"!ammocammoc\")\n",
    "\n",
    "    def test_should_reverse_123456789(self):\n",
    "        self.assertEqual(first_reverse(\"123456789\"), \"987654321\")\n",
    "\n",
    "    def test_should_reverse_lettersz_23z(self):\n",
    "        self.assertEqual(first_reverse(\"lettersz!23z\"), \"z32!zsrettel\")\n",
    "\n",
    "    def test_should_reverse_aq(self):\n",
    "        self.assertEqual(first_reverse(\"aq\"), \"qa\")"
   ]
  },
  {
   "cell_type": "code",
   "execution_count": 6,
   "id": "956d877b",
   "metadata": {},
   "outputs": [
    {
     "name": "stderr",
     "output_type": "stream",
     "text": [
      "............\n",
      "----------------------------------------------------------------------\n",
      "Ran 12 tests in 0.014s\n",
      "\n",
      "OK\n"
     ]
    }
   ],
   "source": [
    "if __name__ == '__main__':\n",
    "    unittest.main(argv=['first-arg-is-ignored'], exit=False)"
   ]
  }
 ],
 "metadata": {
  "kernelspec": {
   "display_name": ".venv",
   "language": "python",
   "name": "python3"
  },
  "language_info": {
   "codemirror_mode": {
    "name": "ipython",
    "version": 3
   },
   "file_extension": ".py",
   "mimetype": "text/x-python",
   "name": "python",
   "nbconvert_exporter": "python",
   "pygments_lexer": "ipython3",
   "version": "3.12.3"
  }
 },
 "nbformat": 4,
 "nbformat_minor": 5
}
