{
 "cells": [
  {
   "cell_type": "code",
   "execution_count": null,
   "id": "c097ab94",
   "metadata": {},
   "outputs": [],
   "source": [
    "def first_reverse(input_str: str) -> str:\n",
    "    return input_str[::-1]"
   ]
  },
  {
   "cell_type": "code",
   "execution_count": null,
   "id": "ec45cba3",
   "metadata": {},
   "outputs": [],
   "source": [
    "import unittest\n",
    "\n",
    "class TestFirstReverse(unittest.TestCase):\n",
    "    def test_should_reverse_coderbyte(self):\n",
    "        \"\"\"Verifica a inversão da string 'coderbyte'.\"\"\"\n",
    "        self.assertEqual(first_reverse(\"coderbyte\"), \"etybredoc\")\n",
    "\n",
    "    def test_should_reverse_I_Love_Code(self):\n",
    "        \"\"\"Verifica a inversão de uma frase com espaços e maiúsculas.\"\"\"\n",
    "        self.assertEqual(first_reverse(\"I Love Code\"), \"edoC evoL I\")\n",
    "\n",
    "    def test_should_reverse_Hello_World_and_Coders(self):\n",
    "        \"\"\"Verifica a inversão de uma frase mais longa.\"\"\"\n",
    "        self.assertEqual(first_reverse(\"Hello World and Coders\"), \"sredoC dna dlroW olleH\")"
   ]
  },
  {
   "cell_type": "code",
   "execution_count": null,
   "id": "956d877b",
   "metadata": {},
   "outputs": [],
   "source": [
    "if __name__ == '__main__':\n",
    "    unittest.main(argv=['first-arg-is-ignored'], exit=False)"
   ]
  }
 ],
 "metadata": {
  "language_info": {
   "name": "python"
  }
 },
 "nbformat": 4,
 "nbformat_minor": 5
}
