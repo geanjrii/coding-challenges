{
 "cells": [
  {
   "cell_type": "markdown",
   "id": "cec84064",
   "metadata": {},
   "source": [
    "# First Reverse\n",
    "\n",
    "Have the function FirstReverse(str) take the str parameter being passed and return the string in reversed order. For example: if the input string is `\"Hello World and Coders\"` then your program should return the string `\"sredoC dna dlroW olleH\"`.\n",
    "\n",
    "## Examples\n",
    "\n",
    "`Input: \"coderbyte\"`\n",
    "`Output: etybredoc`\n",
    "\n",
    "`Input: \"I Love Code\"`\n",
    "`Output: edoC evoL I`"
   ]
  },
  {
   "cell_type": "code",
   "execution_count": 1,
   "id": "c097ab94",
   "metadata": {},
   "outputs": [],
   "source": [
    "def first_reverse(input_str: str) -> str:\n",
    "    return input_str[::-1]"
   ]
  },
  {
   "cell_type": "code",
   "execution_count": 2,
   "id": "ec45cba3",
   "metadata": {},
   "outputs": [],
   "source": [
    "import unittest\n",
    "\n",
    "class TestFirstReverse(unittest.TestCase):\n",
    "    def test_should_reverse_coderbyte(self):\n",
    "        \"\"\"Verifica a inversão da string 'coderbyte'.\"\"\"\n",
    "        self.assertEqual(first_reverse(\"coderbyte\"), \"etybredoc\")\n",
    "\n",
    "    def test_should_reverse_I_Love_Code(self):\n",
    "        \"\"\"Verifica a inversão de uma frase com espaços e maiúsculas.\"\"\"\n",
    "        self.assertEqual(first_reverse(\"I Love Code\"), \"edoC evoL I\")\n",
    "\n",
    "    def test_should_reverse_Hello_World_and_Coders(self):\n",
    "        \"\"\"Verifica a inversão de uma frase mais longa.\"\"\"\n",
    "        self.assertEqual(first_reverse(\"Hello World and Coders\"), \"sredoC dna dlroW olleH\")"
   ]
  },
  {
   "cell_type": "code",
   "execution_count": 3,
   "id": "956d877b",
   "metadata": {},
   "outputs": [
    {
     "name": "stderr",
     "output_type": "stream",
     "text": [
      "...\n",
      "----------------------------------------------------------------------\n",
      "Ran 3 tests in 0.005s\n",
      "\n",
      "OK\n"
     ]
    }
   ],
   "source": [
    "if __name__ == '__main__':\n",
    "    unittest.main(argv=['first-arg-is-ignored'], exit=False)"
   ]
  }
 ],
 "metadata": {
  "kernelspec": {
   "display_name": ".venv",
   "language": "python",
   "name": "python3"
  },
  "language_info": {
   "codemirror_mode": {
    "name": "ipython",
    "version": 3
   },
   "file_extension": ".py",
   "mimetype": "text/x-python",
   "name": "python",
   "nbconvert_exporter": "python",
   "pygments_lexer": "ipython3",
   "version": "3.12.3"
  }
 },
 "nbformat": 4,
 "nbformat_minor": 5
}
