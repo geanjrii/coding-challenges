{
 "cells": [
  {
   "cell_type": "code",
   "execution_count": 1,
   "id": "ae3af5bc",
   "metadata": {},
   "outputs": [],
   "source": [
    "import re\n",
    "\n",
    "def longest_word(sen: str) -> str:    \n",
    "    cleaned_sen = re.sub(r'[^a-zA-Z0-9 ]', '', sen)\n",
    "    \n",
    "    words = cleaned_sen.split()     \n",
    "    \n",
    "    return max(words, key=len)"
   ]
  },
  {
   "cell_type": "code",
   "execution_count": 2,
   "id": "210b4bbb",
   "metadata": {},
   "outputs": [],
   "source": [
    "import unittest\n",
    "\n",
    "class TestLongestWord(unittest.TestCase):\n",
    "    def test_returns_longest_word_ignoring_special_characters(self):\n",
    "        \"\"\"Testa se a função ignora caracteres especiais e retorna a palavra mais longa.\"\"\"\n",
    "        self.assertEqual(longest_word(\"fun&!! time\"), \"time\")\n",
    "\n",
    "    def test_returns_longest_word_from_a_simple_sentence(self):\n",
    "        \"\"\"Testa a função com uma frase simples e um empate de comprimento, retornando a primeira palavra mais longa.\"\"\"\n",
    "        self.assertEqual(longest_word(\"I love dogs\"), \"love\")"
   ]
  },
  {
   "cell_type": "code",
   "execution_count": 6,
   "id": "ff9167b7",
   "metadata": {},
   "outputs": [
    {
     "name": "stderr",
     "output_type": "stream",
     "text": [
      "..\n",
      "----------------------------------------------------------------------\n",
      "Ran 2 tests in 0.003s\n",
      "\n",
      "OK\n"
     ]
    }
   ],
   "source": [
    "if __name__ == '__main__':\n",
    "    unittest.main(argv=['first-arg-is-ignored'], exit=False)"
   ]
  }
 ],
 "metadata": {
  "kernelspec": {
   "display_name": ".venv",
   "language": "python",
   "name": "python3"
  },
  "language_info": {
   "codemirror_mode": {
    "name": "ipython",
    "version": 3
   },
   "file_extension": ".py",
   "mimetype": "text/x-python",
   "name": "python",
   "nbconvert_exporter": "python",
   "pygments_lexer": "ipython3",
   "version": "3.12.3"
  }
 },
 "nbformat": 4,
 "nbformat_minor": 5
}
