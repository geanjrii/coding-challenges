{
 "cells": [
  {
   "cell_type": "markdown",
   "id": "83768c52",
   "metadata": {},
   "source": [
    "# Longest Word\n",
    "\n",
    "Have the function LongestWord(sen) take the sen parameter being passed and return the longest word in the string. If there are two or more words that are the same length, return the first word from the string with that length. Ignore punctuation and assume sen will not be empty. Words may also contain numbers, for example `\"Hello world123 567\"`\n",
    "\n",
    "## Examples\n",
    "\n",
    "`Input: \"fun&!! time\"`\n",
    "`Output: time`\n",
    "\n",
    "`Input: \"I love dogs\"`\n",
    "`Output: love`"
   ]
  },
  {
   "cell_type": "code",
   "execution_count": 1,
   "id": "ae3af5bc",
   "metadata": {},
   "outputs": [],
   "source": [
    "import re\n",
    "\n",
    "def longest_word(sen: str) -> str:    \n",
    "    cleaned_sen = re.sub(r'[^a-zA-Z0-9 ]', '', sen)\n",
    "    \n",
    "    words = cleaned_sen.split()     \n",
    "    \n",
    "    return max(words, key=len)"
   ]
  },
  {
   "cell_type": "code",
   "execution_count": 2,
   "id": "210b4bbb",
   "metadata": {},
   "outputs": [],
   "source": [
    "import unittest\n",
    "\n",
    "class TestLongestWord(unittest.TestCase):\n",
    "    def test_returns_longest_word_ignoring_special_characters(self):\n",
    "        self.assertEqual(longest_word(\"fun&!! time\"), \"time\")\n",
    "\n",
    "    def test_returns_longest_word_from_a_simple_sentence(self):\n",
    "        self.assertEqual(longest_word(\"I love dogs\"), \"love\")\n",
    "\n",
    "    def test_hello_world(self):\n",
    "        self.assertEqual(longest_word(\"hello world\"), \"hello\")\n",
    "\n",
    "    def test_sentence_with_longest_word_at_end(self):\n",
    "        self.assertEqual(longest_word(\"this is some sort of sentence\"), \"sentence\")\n",
    "\n",
    "    def test_longest_word_with_special_characters(self):\n",
    "        self.assertEqual(longest_word(\"longest word!!\"), \"longest\")\n",
    "\n",
    "    def test_beautiful_sentence_with_special_characters(self):\n",
    "        self.assertEqual(longest_word(\"a beautiful sentence^&!\"), \"beautiful\")\n",
    "\n",
    "    def test_oxford_press(self):\n",
    "        self.assertEqual(longest_word(\"oxford press\"), \"oxford\")\n",
    "\n",
    "    def test_numbers(self):\n",
    "        self.assertEqual(longest_word(\"123456789 98765432\"), \"123456789\")\n",
    "\n",
    "    def test_letter_after_letter(self):\n",
    "        self.assertEqual(longest_word(\"letter after letter!!\"), \"letter\")\n",
    "\n",
    "    def test_dee(self):\n",
    "        self.assertEqual(longest_word(\"a b c dee\"), \"dee\")\n",
    "\n",
    "    def test_confusing_sentence(self):\n",
    "        self.assertEqual(longest_word(\"a confusing /:sentence:/[ this is not!!!!!!!~\"), \"confusing\")"
   ]
  },
  {
   "cell_type": "code",
   "execution_count": 3,
   "id": "ff9167b7",
   "metadata": {},
   "outputs": [
    {
     "name": "stderr",
     "output_type": "stream",
     "text": [
      "...........\n",
      "----------------------------------------------------------------------\n",
      "Ran 11 tests in 0.012s\n",
      "\n",
      "OK\n"
     ]
    }
   ],
   "source": [
    "if __name__ == '__main__':\n",
    "    unittest.main(argv=['first-arg-is-ignored'], exit=False)"
   ]
  }
 ],
 "metadata": {
  "kernelspec": {
   "display_name": ".venv",
   "language": "python",
   "name": "python3"
  },
  "language_info": {
   "codemirror_mode": {
    "name": "ipython",
    "version": 3
   },
   "file_extension": ".py",
   "mimetype": "text/x-python",
   "name": "python",
   "nbconvert_exporter": "python",
   "pygments_lexer": "ipython3",
   "version": "3.12.3"
  }
 },
 "nbformat": 4,
 "nbformat_minor": 5
}
