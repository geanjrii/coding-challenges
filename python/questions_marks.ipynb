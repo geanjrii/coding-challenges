{
 "cells": [
  {
   "cell_type": "markdown",
   "id": "f3dd85d1",
   "metadata": {},
   "source": [
    "# Questions Marks\n",
    "\n",
    "Have the function QuestionsMarks(str) take the str string parameter, which will contain single digit numbers, letters, and question marks, and check if there are exactly 3 question marks between every pair of two numbers that add up to 10. If so, then your program should return the string true, otherwise it should return the string false. If there aren't any two numbers that add up to 10 in the string, then your program should return false as well.\n",
    "\n",
    "For example: if str is `\"arrb6???4xxbl5???eee5\"` then your program should return true because there are exactly 3 question marks between 6 and 4, and 3 question marks between 5 and 5 at the end of the string.\n",
    "\n",
    "## Examples\n",
    "\n",
    "`Input: \"aa6?9\"`\n",
    "`Output: false`\n",
    "\n",
    "`Input: \"acc?7??sss?3rr1??????5\"`\n",
    "`Output: true`"
   ]
  },
  {
   "cell_type": "code",
   "execution_count": 2,
   "id": "98e994a1",
   "metadata": {},
   "outputs": [],
   "source": [
    "def questions_marks(str_input: str) -> str:\n",
    "    \n",
    "    previous_num = 0\n",
    "    question_marks = 0\n",
    "    valid_pairs = 0\n",
    "\n",
    "    for char in str_input:\n",
    "        if char.isdigit():\n",
    "            current_num = int(char)\n",
    "            total_sum = previous_num + current_num\n",
    "\n",
    "            if total_sum == 10 and question_marks == 3:\n",
    "                valid_pairs += 1\n",
    "            if total_sum == 10 and question_marks != 3:\n",
    "                return 'false'\n",
    "        \n",
    "            previous_num = current_num\n",
    "            question_marks = 0\n",
    "            \n",
    "        elif char == '?':\n",
    "            question_marks += 1\n",
    "            \n",
    "    \n",
    "    return 'true' if valid_pairs > 0 else 'false'"
   ]
  },
  {
   "cell_type": "code",
   "execution_count": 3,
   "id": "16451cf2",
   "metadata": {},
   "outputs": [
    {
     "name": "stderr",
     "output_type": "stream",
     "text": [
      "..........\n",
      "----------------------------------------------------------------------\n",
      "Ran 10 tests in 0.007s\n",
      "\n",
      "OK\n"
     ]
    }
   ],
   "source": [
    "import unittest\n",
    "\n",
    "class TestQuestionsMarks(unittest.TestCase):\n",
    "    def test_exactly_3_question_marks(self):\n",
    "        self.assertEqual(questions_marks(\"arrb6???4xxbl5???eee5\"), 'true')\n",
    "\n",
    "    def test_not_exactly_3_question_marks(self):\n",
    "        self.assertEqual(questions_marks(\"aa6?9\"), 'false')\n",
    "\n",
    "    def test_multiple_valid_pairs(self):\n",
    "        self.assertEqual(questions_marks(\"acc?7??sss?3rr1??????5\"), 'true')\n",
    "\n",
    "    def test_no_pairs_sum_10(self):\n",
    "        self.assertEqual(questions_marks(\"aaaaaaarrrrr??????\"), 'false')\n",
    "\n",
    "    def test_repeated_valid_pairs(self):\n",
    "        self.assertEqual(questions_marks(\"9???1???9???1???9\"), 'true')\n",
    "\n",
    "    def test_one_pair_invalid(self):\n",
    "        self.assertEqual(questions_marks(\"9???1???9??1???9\"), 'false')\n",
    "\n",
    "    def test_not_enough_question_marks(self):\n",
    "        self.assertEqual(questions_marks(\"4?5?4?aamm9\"), 'false')\n",
    "\n",
    "    def test_too_few_question_marks(self):\n",
    "        self.assertEqual(questions_marks(\"5??aaaaaaaaaaaaaaaaaaa?5?5\"), 'false')\n",
    "\n",
    "    def test_at_least_one_valid_pair(self):\n",
    "        self.assertEqual(questions_marks(\"5??aaaaaaaaaaaaaaaaaaa?5?a??5\"), 'true')\n",
    "\n",
    "    def test_no_valid_pairs(self):\n",
    "        self.assertEqual(questions_marks(\"mbbv???????????4??????ddsdsdcc9?\"), 'false')\n",
    "\n",
    "if __name__ == \"__main__\":\n",
    "    unittest.main(argv=[''], exit=False)"
   ]
  }
 ],
 "metadata": {
  "kernelspec": {
   "display_name": ".venv",
   "language": "python",
   "name": "python3"
  },
  "language_info": {
   "codemirror_mode": {
    "name": "ipython",
    "version": 3
   },
   "file_extension": ".py",
   "mimetype": "text/x-python",
   "name": "python",
   "nbconvert_exporter": "python",
   "pygments_lexer": "ipython3",
   "version": "3.12.3"
  }
 },
 "nbformat": 4,
 "nbformat_minor": 5
}
